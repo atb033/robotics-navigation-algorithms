{
 "cells": [
  {
   "cell_type": "code",
   "execution_count": 3,
   "metadata": {},
   "outputs": [],
   "source": [
    "import ipywidgets as widgets\n",
    "from IPython.display import display\n",
    "\n",
    "int_slider = widgets.IntSlider(\n",
    "    value=0,          # Initial value\n",
    "    min=0,            # Minimum value\n",
    "    max=100,          # Maximum value\n",
    "    step=1,           # Step size\n",
    "    description='Value:',\n",
    "    orientation='horizontal'  # Slider orientation ('horizontal' or 'vertical')\n",
    ")\n",
    "\n",
    "display(int_slider)"
   ]
  }
 ],
 "metadata": {
  "kernelspec": {
   "display_name": "Python 3",
   "language": "python",
   "name": "python3"
  },
  "language_info": {
   "codemirror_mode": {
    "name": "ipython",
    "version": 3
   },
   "file_extension": ".py",
   "mimetype": "text/x-python",
   "name": "python",
   "nbconvert_exporter": "python",
   "pygments_lexer": "ipython3",
   "version": "3.11.5"
  },
  "orig_nbformat": 4
 },
 "nbformat": 4,
 "nbformat_minor": 2
}
